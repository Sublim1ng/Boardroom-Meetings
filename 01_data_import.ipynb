{
 "cells": [
  {
   "cell_type": "code",
   "execution_count": 1,
   "id": "13f302c6",
   "metadata": {},
   "outputs": [],
   "source": [
    "import os\n",
    "import pandas as pd\n",
    "from sklearn.metrics import confusion_matrix, accuracy_score\n",
    "import seaborn as sns\n",
    "import matplotlib.pyplot as plt\n",
    "import numpy as np\n",
    "import re"
   ]
  },
  {
   "cell_type": "markdown",
   "id": "f79f3d92",
   "metadata": {},
   "source": [
    "# Read all the .text files"
   ]
  },
  {
   "cell_type": "code",
   "execution_count": 2,
   "id": "06f64087",
   "metadata": {},
   "outputs": [],
   "source": [
    "def read_and_process_file(file_path):\n",
    "    encodings = ['utf-8', 'ISO-8859-1', 'latin1', 'cp1252']\n",
    "    data = None\n",
    "\n",
    "    for encoding in encodings:\n",
    "        try:\n",
    "            with open(file_path, 'r', encoding=encoding) as file:\n",
    "                data = file.read()\n",
    "            break\n",
    "        except UnicodeDecodeError:\n",
    "            continue\n",
    "\n",
    "    if data is None:\n",
    "        return \"Failed to read the file with the tried encodings.\"\n",
    "\n",
    "    segments = data.split(']')\n",
    "    data_list = []\n",
    "    previous_tag = None\n",
    "\n",
    "    for segment in segments[:-1]:\n",
    "        if '[' in segment:\n",
    "            text = segment.split('[')[0].replace('\\n', ' ').strip()\n",
    "            tag = segment[segment.rfind('['):].strip() + ']'\n",
    "\n",
    "            # Remove extra spaces\n",
    "            text = re.sub(r\"\\s+\", \" \", text)\n",
    "\n",
    "            if tag.startswith('[c:') and ':' in tag:\n",
    "                if previous_tag is not None:\n",
    "                    clean_tag = ''.join(previous_tag.strip().split())\n",
    "                    data_list.append({'Tag': clean_tag, 'Sentence': text})\n",
    "\n",
    "                previous_tag = tag\n",
    "            else:\n",
    "                if data_list:\n",
    "                    data_list[-1]['Sentence'] += ' ' + text\n",
    "\n",
    "    if previous_tag is not None and segments[-1]:\n",
    "        clean_tag = ''.join(previous_tag.strip().split())\n",
    "        last_text = segments[-1].replace('\\n', ' ').strip()\n",
    "        last_text = re.sub(r\"\\s+\", \" \", last_text)  \n",
    "        data_list.append({'Tag': clean_tag, 'Sentence': last_text})\n",
    "\n",
    "    return pd.DataFrame(data_list)"
   ]
  },
  {
   "cell_type": "code",
   "execution_count": 3,
   "id": "c7a9dd4c",
   "metadata": {},
   "outputs": [],
   "source": [
    "file_path = '/Users/ningyuhan/Desktop/txt files/800711Rath BOD Meeting.ts.txt'\n",
    "df_800711 = read_and_process_file(file_path)\n",
    "#df_800711.to_csv('/Users/ningyuhan/Desktop/800711.csv', index=True)"
   ]
  },
  {
   "cell_type": "code",
   "execution_count": 4,
   "id": "c713efdf",
   "metadata": {},
   "outputs": [],
   "source": [
    "file_path = '/Users/ningyuhan/Desktop/txt files/800909Rath BOD Meeting.ts.txt'\n",
    "df_800909 = read_and_process_file(file_path)\n",
    "#df_800909.to_csv('/Users/ningyuhan/Desktop/800909.csv', index=True)"
   ]
  },
  {
   "cell_type": "code",
   "execution_count": 5,
   "id": "33a50b6a",
   "metadata": {},
   "outputs": [],
   "source": [
    "file_path = '/Users/ningyuhan/Desktop/txt files/801028Rath BOD Meeting.ts.txt'\n",
    "df_801028 = read_and_process_file(file_path)"
   ]
  },
  {
   "cell_type": "code",
   "execution_count": 6,
   "id": "b8135e11",
   "metadata": {},
   "outputs": [],
   "source": [
    "file_path = '/Users/ningyuhan/Desktop/txt files/801112.Rath BOD Meeting.txt'\n",
    "df_801112 = read_and_process_file(file_path)"
   ]
  },
  {
   "cell_type": "code",
   "execution_count": 7,
   "id": "80864353",
   "metadata": {},
   "outputs": [],
   "source": [
    "file_path = '/Users/ningyuhan/Desktop/txt files/810121Rath BOD Meeting.ts.txt'\n",
    "df_810121 = read_and_process_file(file_path)"
   ]
  },
  {
   "cell_type": "code",
   "execution_count": 8,
   "id": "91cc6d6e",
   "metadata": {},
   "outputs": [],
   "source": [
    "file_path = '/Users/ningyuhan/Desktop/txt files/810302.Rath BOD Meeting.ms.txt'\n",
    "df_810302 = read_and_process_file(file_path)"
   ]
  },
  {
   "cell_type": "code",
   "execution_count": 9,
   "id": "be274f3c",
   "metadata": {},
   "outputs": [],
   "source": [
    "file_path = '/Users/ningyuhan/Desktop/txt files/810408Rath BOD Meeting.ts.txt'\n",
    "df_810408 = read_and_process_file(file_path)"
   ]
  },
  {
   "cell_type": "code",
   "execution_count": 10,
   "id": "845019db",
   "metadata": {},
   "outputs": [],
   "source": [
    "file_path = '/Users/ningyuhan/Desktop/txt files/810527Rath BOD Meeting.ts.txt'\n",
    "df_810527 = read_and_process_file(file_path)"
   ]
  },
  {
   "cell_type": "code",
   "execution_count": 11,
   "id": "72badff4",
   "metadata": {},
   "outputs": [],
   "source": [
    "file_path = '/Users/ningyuhan/Desktop/txt files/810618Rath BOD Meeting.ts.txt'\n",
    "df_810618 = read_and_process_file(file_path)"
   ]
  },
  {
   "cell_type": "code",
   "execution_count": 12,
   "id": "6e440d50",
   "metadata": {},
   "outputs": [],
   "source": [
    "file_path = '/Users/ningyuhan/Desktop/txt files/810722Rath BOD Meeting.ts.txt'\n",
    "df_810722 = read_and_process_file(file_path)"
   ]
  },
  {
   "cell_type": "code",
   "execution_count": 13,
   "id": "def3007f",
   "metadata": {},
   "outputs": [],
   "source": [
    "file_path = '/Users/ningyuhan/Desktop/txt files/810902Rath BOD Meeting.ts.txt'\n",
    "df_810902 = read_and_process_file(file_path)"
   ]
  },
  {
   "cell_type": "code",
   "execution_count": 14,
   "id": "8076a6ee",
   "metadata": {},
   "outputs": [],
   "source": [
    "file_path = '/Users/ningyuhan/Desktop/txt files/811021Rath BOD Meeting.ts.txt'\n",
    "df_811021 = read_and_process_file(file_path)"
   ]
  },
  {
   "cell_type": "code",
   "execution_count": 15,
   "id": "6d161c60",
   "metadata": {},
   "outputs": [],
   "source": [
    "file_path = '/Users/ningyuhan/Desktop/txt files/811216Rath BOD Meeting.ts.txt'\n",
    "df_811216 = read_and_process_file(file_path)"
   ]
  },
  {
   "cell_type": "code",
   "execution_count": 16,
   "id": "0b791d5d",
   "metadata": {},
   "outputs": [],
   "source": [
    "file_path = '/Users/ningyuhan/Desktop/txt files/820218Rath BOD Meeting.txt'\n",
    "df_820218 = read_and_process_file(file_path)"
   ]
  },
  {
   "cell_type": "code",
   "execution_count": 17,
   "id": "e3b9d648",
   "metadata": {},
   "outputs": [],
   "source": [
    "file_path = '/Users/ningyuhan/Desktop/txt files/820324Rath BOD Meeting.ts.txt'\n",
    "df_820324 = read_and_process_file(file_path)"
   ]
  },
  {
   "cell_type": "code",
   "execution_count": 18,
   "id": "6cefffd7",
   "metadata": {},
   "outputs": [],
   "source": [
    "file_path = '/Users/ningyuhan/Desktop/txt files/820413 Rath BOD Meeting.txt'\n",
    "df_820413 = read_and_process_file(file_path)"
   ]
  },
  {
   "cell_type": "code",
   "execution_count": 19,
   "id": "2ae150c9",
   "metadata": {},
   "outputs": [],
   "source": [
    "file_path = '/Users/ningyuhan/Desktop/txt files/820617Rath BOD Meeting.ts.txt'\n",
    "df_820617 = read_and_process_file(file_path)"
   ]
  },
  {
   "cell_type": "code",
   "execution_count": 20,
   "id": "d2a06b10",
   "metadata": {},
   "outputs": [],
   "source": [
    "file_path = '/Users/ningyuhan/Desktop/txt files/820928Rath BOD Meetingts.txt'\n",
    "df_820928 = read_and_process_file(file_path)"
   ]
  },
  {
   "cell_type": "code",
   "execution_count": 21,
   "id": "97e42e69",
   "metadata": {},
   "outputs": [],
   "source": [
    "file_path = '/Users/ningyuhan/Desktop/txt files/821010.Rath BOD Meeting.ms.txt'\n",
    "df_821010 = read_and_process_file(file_path)"
   ]
  },
  {
   "cell_type": "code",
   "execution_count": 22,
   "id": "8a671b81",
   "metadata": {},
   "outputs": [],
   "source": [
    "file_path = '/Users/ningyuhan/Desktop/txt files/821116Rath BOD Meeting.ts.txt'\n",
    "df_821116 = read_and_process_file(file_path)"
   ]
  },
  {
   "cell_type": "code",
   "execution_count": 23,
   "id": "0de969ed",
   "metadata": {},
   "outputs": [],
   "source": [
    "file_path = '/Users/ningyuhan/Desktop/txt files/830217Rath BOD Meeting.ts.txt'\n",
    "df_830217 = read_and_process_file(file_path)"
   ]
  },
  {
   "cell_type": "code",
   "execution_count": 24,
   "id": "b3031935",
   "metadata": {},
   "outputs": [],
   "source": [
    "file_path = '/Users/ningyuhan/Desktop/txt files/830323Rath BOD Meeting.ts.txt'\n",
    "df_830323 = read_and_process_file(file_path)\n",
    "#df_830323"
   ]
  },
  {
   "cell_type": "code",
   "execution_count": 25,
   "id": "f5c254b8",
   "metadata": {},
   "outputs": [],
   "source": [
    "file_path = '/Users/ningyuhan/Desktop/txt files/830511Rath BOD Meeting.ts.txt'\n",
    "df_830511 = read_and_process_file(file_path)"
   ]
  },
  {
   "cell_type": "code",
   "execution_count": 26,
   "id": "36c89119",
   "metadata": {},
   "outputs": [],
   "source": [
    "file_path = '/Users/ningyuhan/Desktop/txt files/830728Rath BOD Meeting.ts.txt'\n",
    "df_830728 = read_and_process_file(file_path)"
   ]
  },
  {
   "cell_type": "code",
   "execution_count": 27,
   "id": "bbe3cc1e",
   "metadata": {},
   "outputs": [],
   "source": [
    "file_path = '/Users/ningyuhan/Desktop/txt files/830818Rath BOD Meeting.ts.txt'\n",
    "df_830818 = read_and_process_file(file_path)"
   ]
  },
  {
   "cell_type": "code",
   "execution_count": 28,
   "id": "bd935536",
   "metadata": {},
   "outputs": [],
   "source": [
    "file_path = '/Users/ningyuhan/Desktop/txt files/840717Rath BOD Meeting.ts.txt'\n",
    "df_840717 = read_and_process_file(file_path)"
   ]
  },
  {
   "cell_type": "code",
   "execution_count": 29,
   "id": "a3e7f3f0",
   "metadata": {},
   "outputs": [],
   "source": [
    "file_path = '/Users/ningyuhan/Desktop/txt files/840821Rath BOD Meeting.ts.txt'\n",
    "df_840821 = read_and_process_file(file_path)"
   ]
  },
  {
   "cell_type": "code",
   "execution_count": 30,
   "id": "8474053f",
   "metadata": {},
   "outputs": [],
   "source": [
    "file_path = '/Users/ningyuhan/Desktop/txt files/840921Rath BOD Meeting.ts.txt'\n",
    "df_840921 = read_and_process_file(file_path)"
   ]
  },
  {
   "cell_type": "code",
   "execution_count": 31,
   "id": "c9a79e9a",
   "metadata": {},
   "outputs": [],
   "source": [
    "file_path = '/Users/ningyuhan/Desktop/txt files/841010Rath BOD Meeting.ts.txt'\n",
    "df_841010 = read_and_process_file(file_path)"
   ]
  },
  {
   "cell_type": "code",
   "execution_count": 32,
   "id": "3d4ec50b",
   "metadata": {},
   "outputs": [],
   "source": [
    "file_path = '/Users/ningyuhan/Desktop/txt files/841108Rath BOD Meeting.ms.txt'\n",
    "df_841108 = read_and_process_file(file_path)"
   ]
  },
  {
   "cell_type": "code",
   "execution_count": 33,
   "id": "21a206e3",
   "metadata": {},
   "outputs": [],
   "source": [
    "file_path = '/Users/ningyuhan/Desktop/txt files/850108.Rath BOD Meeting.ms.txt'\n",
    "df_850108 = read_and_process_file(file_path)"
   ]
  },
  {
   "cell_type": "markdown",
   "id": "b434c787",
   "metadata": {},
   "source": [
    "# All examples in a big dataframe"
   ]
  },
  {
   "cell_type": "code",
   "execution_count": 34,
   "id": "4a27c99e",
   "metadata": {},
   "outputs": [
    {
     "data": {
      "text/html": [
       "<div>\n",
       "<style scoped>\n",
       "    .dataframe tbody tr th:only-of-type {\n",
       "        vertical-align: middle;\n",
       "    }\n",
       "\n",
       "    .dataframe tbody tr th {\n",
       "        vertical-align: top;\n",
       "    }\n",
       "\n",
       "    .dataframe thead th {\n",
       "        text-align: right;\n",
       "    }\n",
       "</style>\n",
       "<table border=\"1\" class=\"dataframe\">\n",
       "  <thead>\n",
       "    <tr style=\"text-align: right;\">\n",
       "      <th></th>\n",
       "      <th>Tag</th>\n",
       "      <th>Sentence</th>\n",
       "    </tr>\n",
       "  </thead>\n",
       "  <tbody>\n",
       "    <tr>\n",
       "      <th>0</th>\n",
       "      <td>[c:01,01,1b,01]</td>\n",
       "      <td>Swisher opens the meeting.</td>\n",
       "    </tr>\n",
       "    <tr>\n",
       "      <th>1</th>\n",
       "      <td>[c:02,08,1a,01]</td>\n",
       "      <td>It was moved by Mr. Frey,</td>\n",
       "    </tr>\n",
       "    <tr>\n",
       "      <th>2</th>\n",
       "      <td>[c:03,10,2a,01]</td>\n",
       "      <td>seconded by Mr. Rath, that the minutes of the ...</td>\n",
       "    </tr>\n",
       "    <tr>\n",
       "      <th>3</th>\n",
       "      <td>[c:04,02,1b,03]</td>\n",
       "      <td>Mr. McGuire informed the Board that the May st...</td>\n",
       "    </tr>\n",
       "    <tr>\n",
       "      <th>4</th>\n",
       "      <td>[c:05,02,4d,03]</td>\n",
       "      <td>He did indicate the preliminary weekly results...</td>\n",
       "    </tr>\n",
       "    <tr>\n",
       "      <th>...</th>\n",
       "      <td>...</td>\n",
       "      <td>...</td>\n",
       "    </tr>\n",
       "    <tr>\n",
       "      <th>4852</th>\n",
       "      <td>[c:104,22,4e3,06]</td>\n",
       "      <td>they also need concessions from the workers and</td>\n",
       "    </tr>\n",
       "    <tr>\n",
       "      <th>4853</th>\n",
       "      <td>[c:105,22,4e3,06]</td>\n",
       "      <td>they will offer $7.25 per hour - of which $1.0...</td>\n",
       "    </tr>\n",
       "    <tr>\n",
       "      <th>4854</th>\n",
       "      <td>[c:106,22,4e3,08]</td>\n",
       "      <td>six months of insurance.</td>\n",
       "    </tr>\n",
       "    <tr>\n",
       "      <th>4855</th>\n",
       "      <td>[c:107,22,4e3,10]</td>\n",
       "      <td>So, it's very close to the deal Lyle is propos...</td>\n",
       "    </tr>\n",
       "    <tr>\n",
       "      <th>4856</th>\n",
       "      <td>[c:108,22,1b,03]</td>\n",
       "      <td>There was a meeting in the Union Hall - a larg...</td>\n",
       "    </tr>\n",
       "  </tbody>\n",
       "</table>\n",
       "<p>4857 rows × 2 columns</p>\n",
       "</div>"
      ],
      "text/plain": [
       "                    Tag                                           Sentence\n",
       "0       [c:01,01,1b,01]                         Swisher opens the meeting.\n",
       "1       [c:02,08,1a,01]                          It was moved by Mr. Frey,\n",
       "2       [c:03,10,2a,01]  seconded by Mr. Rath, that the minutes of the ...\n",
       "3       [c:04,02,1b,03]  Mr. McGuire informed the Board that the May st...\n",
       "4       [c:05,02,4d,03]  He did indicate the preliminary weekly results...\n",
       "...                 ...                                                ...\n",
       "4852  [c:104,22,4e3,06]    they also need concessions from the workers and\n",
       "4853  [c:105,22,4e3,06]  they will offer $7.25 per hour - of which $1.0...\n",
       "4854  [c:106,22,4e3,08]                           six months of insurance.\n",
       "4855  [c:107,22,4e3,10]  So, it's very close to the deal Lyle is propos...\n",
       "4856   [c:108,22,1b,03]  There was a meeting in the Union Hall - a larg...\n",
       "\n",
       "[4857 rows x 2 columns]"
      ]
     },
     "execution_count": 34,
     "metadata": {},
     "output_type": "execute_result"
    }
   ],
   "source": [
    "dfs = [df_800711, df_800909, df_801028, df_801112, df_810121, df_810302, df_810408, df_810527, df_810618, df_810722, df_810902, df_811021, df_811216, df_820218, df_820324, df_820413, df_820617, df_820928, df_821010, df_821116, df_830217, df_830323, df_830511, df_830728, df_830818, df_840717, df_840821, df_840921, df_841010, df_841108, df_850108]\n",
    "combined_df = pd.concat(dfs, ignore_index=True)\n",
    "\n",
    "combined_csv_path = '/Users/ningyuhan/Desktop/combined_dataframe.csv'\n",
    "combined_df.to_csv(combined_csv_path, index=False)\n",
    "\n",
    "combined_df"
   ]
  },
  {
   "cell_type": "code",
   "execution_count": 35,
   "id": "8aee9e9c",
   "metadata": {},
   "outputs": [],
   "source": [
    "# Define your functions\n",
    "def standardize_text(text):\n",
    "    if pd.isna(text):\n",
    "        return text\n",
    "    text = ''.join([char for char in text if ord(char) < 128])\n",
    "    text = text.strip().lower()\n",
    "    text = re.sub(r'[^a-zA-Z0-9\\s]', '', text)\n",
    "    return text\n",
    "\n",
    "def standardize_tag(tag):\n",
    "    if pd.isna(tag):\n",
    "        return tag\n",
    "    tag = tag.replace(' ', '')\n",
    "    tag = ','.join(tag.split(','))\n",
    "    return tag\n",
    "\n",
    "def correct_typo(tag):\n",
    "    parts = tag.strip('[]').split(',')\n",
    "    if len(parts) > 3 and len(parts[3]) == 1:\n",
    "        parts[3] = '0' + parts[3]  # Add a leading zero if it's a single digit\n",
    "    return '[' + ','.join(parts) + ']'"
   ]
  },
  {
   "cell_type": "markdown",
   "id": "52a45495",
   "metadata": {},
   "source": [
    "# Convert each dataframe to CSV files for further use"
   ]
  },
  {
   "cell_type": "code",
   "execution_count": 36,
   "id": "f7adbc78",
   "metadata": {},
   "outputs": [],
   "source": [
    "dfs_dic = {\n",
    "    '800711': df_800711,\n",
    "    '800909': df_800909,\n",
    "    '801028': df_801028,\n",
    "    '801112': df_801112,\n",
    "    '810121': df_810121,\n",
    "    '810302': df_810302,\n",
    "    '810408': df_810408,\n",
    "    '810527': df_810527,\n",
    "    '810618': df_810618,\n",
    "    '810722': df_810722,\n",
    "    '810902': df_810902,\n",
    "    '811021': df_811021,\n",
    "    '811216': df_811216,\n",
    "    '820218': df_820218,\n",
    "    '820324': df_820324,\n",
    "    '820413': df_820413,\n",
    "    '820617': df_820617,\n",
    "    '820928': df_820928,\n",
    "    '821010': df_821010,\n",
    "    '821116': df_821116,\n",
    "    '830217': df_830217,\n",
    "    '830323': df_830323,\n",
    "    '830511': df_830511,\n",
    "    '830728': df_830728,\n",
    "    '830818': df_830818,\n",
    "    '840717': df_840717,\n",
    "    '840821': df_840821,\n",
    "    '840921': df_840921,\n",
    "    '841010': df_841010,\n",
    "    '841108': df_841108,\n",
    "    '850108': df_850108\n",
    "}\n",
    "\n",
    "base_path = '/Users/ningyuhan/Desktop/transcripts_csv/'\n",
    "\n",
    "for filename, df in dfs_dic.items():\n",
    "\n",
    "    csv_filename = f'{base_path}{filename}.csv'\n",
    "\n",
    "    df.to_csv(csv_filename, index=False)"
   ]
  },
  {
   "cell_type": "code",
   "execution_count": null,
   "id": "f13f4f5f",
   "metadata": {},
   "outputs": [],
   "source": []
  }
 ],
 "metadata": {
  "kernelspec": {
   "display_name": "Python 3 (ipykernel)",
   "language": "python",
   "name": "python3"
  },
  "language_info": {
   "codemirror_mode": {
    "name": "ipython",
    "version": 3
   },
   "file_extension": ".py",
   "mimetype": "text/x-python",
   "name": "python",
   "nbconvert_exporter": "python",
   "pygments_lexer": "ipython3",
   "version": "3.11.4"
  },
  "toc": {
   "base_numbering": 1,
   "nav_menu": {},
   "number_sections": true,
   "sideBar": true,
   "skip_h1_title": false,
   "title_cell": "Table of Contents",
   "title_sidebar": "Contents",
   "toc_cell": false,
   "toc_position": {
    "height": "calc(100% - 180px)",
    "left": "10px",
    "top": "150px",
    "width": "189px"
   },
   "toc_section_display": true,
   "toc_window_display": true
  }
 },
 "nbformat": 4,
 "nbformat_minor": 5
}
