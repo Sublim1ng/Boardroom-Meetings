{
 "cells": [
  {
   "cell_type": "markdown",
   "id": "0a474716",
   "metadata": {},
   "source": [
    "# Setups"
   ]
  },
  {
   "cell_type": "code",
   "execution_count": 2,
   "id": "9e0bb242",
   "metadata": {},
   "outputs": [],
   "source": [
    "import pandas as pd\n",
    "import numpy as np\n",
    "import re\n",
    "from collections import Counter"
   ]
  },
  {
   "cell_type": "markdown",
   "id": "51204eee",
   "metadata": {},
   "source": [
    "# Import Data and Codes"
   ]
  },
  {
   "cell_type": "code",
   "execution_count": 3,
   "id": "da36d82e",
   "metadata": {},
   "outputs": [],
   "source": [
    "df = pd.read_csv('/Users/ningyuhan/Desktop/combined_dataframe.csv')"
   ]
  },
  {
   "cell_type": "code",
   "execution_count": 4,
   "id": "75b74c82",
   "metadata": {},
   "outputs": [],
   "source": [
    "verbal_contribution_codes = {\n",
    "    '1': 'Initiation activity',\n",
    "    '1a': 'Motion making',\n",
    "    '1b': 'Information giving',\n",
    "    '1c': 'Information seeking',\n",
    "    '1d': 'Making specific suggestions for action',\n",
    "    '2': 'Support behavior',\n",
    "    '2a': 'Motion seconding',\n",
    "    '2b': 'Making statements in support of another person\\'s argument',\n",
    "    '3': 'System maintenance',\n",
    "    '3a': 'Tension management',\n",
    "    '3b': 'Direction of traffic',\n",
    "    '3c': 'Collective spirit and solidarity moves',\n",
    "    '4': 'Board discussion, debate, argumentation',\n",
    "    '4a': 'Personal defensiveness',\n",
    "    '4b': 'Personal gains',\n",
    "    '4c': 'Agreeing reluctantly',\n",
    "    '4d': 'Sensible,nonpersonal arguments',\n",
    "    '4e1': 'Management',\n",
    "    '4e2': 'Union',\n",
    "    '4e3': 'People (workers) as distinct from union or the union leadership',\n",
    "    '4f': 'Attempts to propose new board topics',\n",
    "    '4g': 'Corporate interests',\n",
    "    '4h': 'Disagreements, conflicts, attacks',\n",
    "    '4i': 'Stonewalling',\n",
    "    '05': 'Unclassified verbal behaviors',\n",
    "}\n",
    "\n",
    "topic_codes = {\n",
    "    '01': 'Routine Board Functions',\n",
    "    '02': 'Scope of Board Issues',\n",
    "    '03': 'Financial Status of Firm',\n",
    "    '04': 'Management Personnel Issues',\n",
    "    '05': 'Marketing and Sales',\n",
    "    '06': 'Employee Stock Ownership Plan (ESOP) Financial',\n",
    "    '07': 'ESOP Participation',\n",
    "    '08': 'Employee Benefits',\n",
    "    '09': 'Plant Production and Manufacturing Process Issues',\n",
    "    '10': 'The Union and Contract Issues',\n",
    "    '11': 'Supervision',\n",
    "    '12': 'hog procurement',\n",
    "    '13': 'Political Relations with the Community'\n",
    "}"
   ]
  },
  {
   "cell_type": "code",
   "execution_count": 5,
   "id": "49429b3c",
   "metadata": {},
   "outputs": [],
   "source": [
    "data = {\n",
    "    'Name': ['Chuck Swisher', 'Emmet “Mac” MacGuire', 'Herb Epstein', 'John Lambert', 'Wally Rath, regional sales managers, & Robert Cray & John DeGroat', 'Bob Soleday, Mowry, Bloomfield,(beginning Jan. 1985)', 'Ivan Pihl', 'Art Frye', 'Jack Thomas', 'Harold Rath', 'Ralph Helstein', 'Tove Hammer', 'Len Dodson', 'Sid Oberman', 'Bob Fulton', 'Walter Cunningham', 'Dick Clarke', 'Phyllis Walters', 'Earl Murray', 'Glen Bass', 'Clark Towne', 'LaVerne Patrie', 'Peter Bruskern', 'Bob Kavangh', 'Lyle Taylor', 'Chuck Mueller', 'Gene Redmond & other union officials', 'Jim Miller', 'Ron Peterson, William Scogland, Charles McCarthy, Tom Mandler, Wes Hall, Ravel', 'Berthold', 'Rudnick', 'Gerjerts, Bill Wait', 'Jack Curtis', 'Bruce Wilson', 'John Stevens, Greg Kohn, Lewis Rudel', 'Potential Business deal people', 'ESOP consultants (Chris Meek & Warner Woodworth, W.F. Whyte)', 'ESOP trustees, Larry Wrede, Jim Anderson, Cox', 'Wayne Wright', 'Insurance people & other consultants', 'Leroy Grittman, Tobias, Mary Frost', 'Swisher & Cohrt, Law firm (Steve Weidner)'],\n",
    "    'Id Number': ['01', '02', '03', '04', '05', '06', '07', '08', '09', '10', '11', '12', '13', '14', '15', '16', '17', '18', '19', '20', '21', '22', '23', '24', '25', '26', '27', '30', '31', '32', '33', '34', '35', '36', '37', '38', '39', '40', '41', '42', '43', '44']\n",
    "}\n",
    "\n",
    "person_df = pd.DataFrame(data)"
   ]
  },
  {
   "cell_type": "markdown",
   "id": "1b1bc73a",
   "metadata": {},
   "source": [
    "# Data Preprocessing"
   ]
  },
  {
   "cell_type": "code",
   "execution_count": 6,
   "id": "9af91084",
   "metadata": {},
   "outputs": [],
   "source": [
    "def standardize_text(text):\n",
    "    if pd.isna(text):\n",
    "        return text  \n",
    "    # Remove non-ASCII characters directly\n",
    "    text = ''.join([char for char in text if ord(char) < 128])\n",
    "    text = text.strip().lower()  \n",
    "    # Remove all non-alphanumeric characters\n",
    "    text = re.sub(r'[^a-zA-Z0-9\\s]', '', text)\n",
    "    return text\n",
    "\n",
    "df['Standardized_Sentence'] = df['Sentence'].apply(standardize_text)\n",
    "\n",
    "def standardize_tag(tag):\n",
    "    if pd.isna(tag):\n",
    "        return tag\n",
    "    # Remove all spaces and extra characters\n",
    "    tag = tag.replace(' ', '')\n",
    "    # Ensure consistency in formatting\n",
    "    tag = ','.join(tag.split(','))\n",
    "    return tag\n",
    "\n",
    "df['Tag'] = df['Tag'].apply(standardize_tag)\n",
    "\n",
    "df['Tag'] = df['Tag'].apply(\n",
    "    lambda x: x.replace('4h,30]', '4h,03]') if '4h,30]' in x else x\n",
    ")\n",
    "\n",
    "def correct_typo(tag):\n",
    "    parts = tag.strip('[]').split(',')\n",
    "    if len(parts) > 3 and len(parts[3]) == 1:\n",
    "        parts[3] = '0' + parts[3]  # Add a leading zero if it's a single digit\n",
    "    return '[' + ','.join(parts) + ']'\n",
    "\n",
    "df['Tag'] = df['Tag'].apply(correct_typo)"
   ]
  },
  {
   "cell_type": "markdown",
   "id": "163a6453",
   "metadata": {},
   "source": [
    "# Data Analysis"
   ]
  },
  {
   "cell_type": "markdown",
   "id": "5741ee8d",
   "metadata": {},
   "source": [
    "## Set Focus Category"
   ]
  },
  {
   "cell_type": "code",
   "execution_count": 7,
   "id": "eeed3328",
   "metadata": {},
   "outputs": [],
   "source": [
    "df['Tag_Component'] = df['Tag'].apply(lambda x: x.split(',')[2] if len(x.split(',')) > 2 else None)\n",
    "\n",
    "# Set the focus category here\n",
    "focus_category = '4h'\n",
    "df['Is_Focus_Category'] = df['Tag_Component'] == focus_category"
   ]
  },
  {
   "cell_type": "markdown",
   "id": "0937b645",
   "metadata": {},
   "source": [
    "## Base rate"
   ]
  },
  {
   "cell_type": "code",
   "execution_count": 8,
   "id": "05cff31c",
   "metadata": {},
   "outputs": [
    {
     "name": "stdout",
     "output_type": "stream",
     "text": [
      "Topic Percentages:\n",
      "Financial Status of Firm: 26.09%\n",
      "The Union and Contract Issues: 12.85%\n",
      "Management Personnel Issues: 12.11%\n",
      "Routine Board Functions: 11.02%\n",
      "Plant Production and Manufacturing Process Issues: 8.71%\n",
      "Marketing and Sales: 7.95%\n",
      "Employee Benefits: 6.49%\n",
      "ESOP Participation: 5.35%\n",
      "Employee Stock Ownership Plan (ESOP) Financial: 4.55%\n",
      "hog procurement: 2.47%\n",
      "Supervision: 1.34%\n",
      "Political Relations with the Community: 0.95%\n",
      "Scope of Board Issues: 0.12%\n",
      "Unknown: 0.02%\n",
      "\n",
      "Verbal Contribution Percentages:\n",
      "Information giving: 26.13%\n",
      "Sensible,nonpersonal arguments: 16.37%\n",
      "Information seeking: 11.47%\n",
      "Disagreements, conflicts, attacks: 6.86%\n",
      "Unclassified verbal behaviors: 4.18%\n",
      "Motion making: 4.14%\n",
      "Union: 3.89%\n",
      "Motion seconding: 3.81%\n",
      "Tension management: 3.40%\n",
      "Direction of traffic: 2.51%\n",
      "Stonewalling: 2.47%\n",
      "Personal defensiveness: 2.47%\n",
      "Agreeing reluctantly: 2.43%\n",
      "Management: 2.29%\n",
      "Making specific suggestions for action: 2.04%\n",
      "Making statements in support of another person's argument: 1.42%\n",
      "Corporate interests: 1.38%\n",
      "Attempts to propose new board topics: 0.93%\n",
      "Personal gains: 0.78%\n",
      "Collective spirit and solidarity moves: 0.47%\n",
      "People (workers) as distinct from union or the union leadership: 0.43%\n",
      "Unknown: 0.06%\n"
     ]
    }
   ],
   "source": [
    "# Randomly select non-overlapping clusters of 3 consecutive sentences\n",
    "num_sentences = len(df)\n",
    "cluster_size = 3\n",
    "max_clusters = num_sentences // cluster_size\n",
    "start_indices = sorted(np.random.choice(range(num_sentences - cluster_size + 1), max_clusters, replace=False))\n",
    "\n",
    "# Initialize dictionaries to count occurrences\n",
    "topic_counts = {}\n",
    "verbal_contribution_counts = {}\n",
    "\n",
    "# Process each cluster\n",
    "for start in start_indices:\n",
    "    cluster = df.iloc[start:start + cluster_size]\n",
    "    for _, row in cluster.iterrows():\n",
    "        # Extract topic and verbal components\n",
    "        topic_component = row['Tag'].split(',')[3].strip(']').strip() if len(row['Tag'].split(',')) > 3 else None\n",
    "        verbal_component = row['Tag'].split(',')[2].strip(']').strip() if len(row['Tag'].split(',')) > 2 else None\n",
    "\n",
    "        # Count topics\n",
    "        topic_counts[topic_component] = topic_counts.get(topic_component, 0) + 1\n",
    "        # Count verbal contributions\n",
    "        verbal_contribution_counts[verbal_component] = verbal_contribution_counts.get(verbal_component, 0) + 1\n",
    "\n",
    "# Calculate total counts for percentages\n",
    "total_topic_count = sum(topic_counts.values())\n",
    "total_verbal_count = sum(verbal_contribution_counts.values())\n",
    "\n",
    "# Translate and calculate percentages\n",
    "translated_topic_counts = {topic_codes.get(key, \"Unknown\"): (value / total_topic_count) * 100 for key, value in topic_counts.items()}\n",
    "translated_verbal_counts = {verbal_contribution_codes.get(key, \"Unknown\"): (value / total_verbal_count) * 100 for key, value in verbal_contribution_counts.items()}\n",
    "\n",
    "# Sort and print the results\n",
    "sorted_topic_counts = sorted(translated_topic_counts.items(), key=lambda x: x[1], reverse=True)\n",
    "sorted_verbal_counts = sorted(translated_verbal_counts.items(), key=lambda x: x[1], reverse=True)\n",
    "\n",
    "print(\"Topic Percentages:\")\n",
    "for topic, percentage in sorted_topic_counts:\n",
    "    print(f\"{topic}: {percentage:.2f}%\")\n",
    "\n",
    "print(\"\\nVerbal Contribution Percentages:\")\n",
    "for verbal_contribution, percentage in sorted_verbal_counts:\n",
    "    print(f\"{verbal_contribution}: {percentage:.2f}%\")\n"
   ]
  },
  {
   "cell_type": "markdown",
   "id": "6161e1ca",
   "metadata": {},
   "source": [
    "## Get 3 setences AFTER \"4h\" instances, keep the Last \"4h\" in consecutive \"4hs\""
   ]
  },
  {
   "cell_type": "code",
   "execution_count": 9,
   "id": "59555cc7",
   "metadata": {},
   "outputs": [],
   "source": [
    "def get_relevant_rows_after(df, focus_column='Is_Focus_Category'):\n",
    "    relevant_rows = []\n",
    "    in_consecutive_focus = False  # Flag to track if we're in a series of consecutive focus category tagged rows\n",
    "\n",
    "    for i in range(len(df) - 1):  # Adjusted to avoid index out of range\n",
    "        current_is_focus = df.iloc[i][focus_column]\n",
    "        next_is_focus = df.iloc[i + 1][focus_column]\n",
    "\n",
    "        # If the current row is focus category and the next row is not, or it's the last focus category in a series\n",
    "        if current_is_focus and not next_is_focus and in_consecutive_focus:\n",
    "            # Reset the flag since this is the last focus category in a series\n",
    "            in_consecutive_focus = False\n",
    "            # Add the last focus category row in the series\n",
    "            relevant_rows.append(df.iloc[i])\n",
    "            # Add the next three non-focus category rows\n",
    "            for j in range(1, 4):\n",
    "                if i+j >= len(df):  # Check if the index goes beyond the DataFrame\n",
    "                    break\n",
    "                if not df.iloc[i+j][focus_column]:\n",
    "                    relevant_rows.append(df.iloc[i+j])\n",
    "                else:\n",
    "                    break  # Stop if another focus category tagged row is encountered\n",
    "\n",
    "        # If the current row is focus category and it's the first in a series or standalone\n",
    "        elif current_is_focus and not in_consecutive_focus:\n",
    "            if not next_is_focus:  # If the next row is not focus category, treat it as a standalone focus category row\n",
    "                relevant_rows.append(df.iloc[i])\n",
    "                # Add the next three non-focus category rows\n",
    "                for j in range(1, 4):\n",
    "                    if i+j >= len(df):\n",
    "                        break\n",
    "                    if not df.iloc[i+j][focus_column]:\n",
    "                        relevant_rows.append(df.iloc[i+j])\n",
    "                    else:\n",
    "                        break\n",
    "            else:  # If the next row is also focus category, set the flag and skip this row\n",
    "                in_consecutive_focus = True\n",
    "\n",
    "    return pd.DataFrame(relevant_rows).sort_index()"
   ]
  },
  {
   "cell_type": "code",
   "execution_count": 10,
   "id": "ad3229be",
   "metadata": {},
   "outputs": [],
   "source": [
    "df_after = get_relevant_rows_after(df)\n",
    "#df_after"
   ]
  },
  {
   "cell_type": "markdown",
   "id": "5e25aae1",
   "metadata": {},
   "source": [
    "### Percentage of topics after 4h"
   ]
  },
  {
   "cell_type": "code",
   "execution_count": 11,
   "id": "e3ca5033",
   "metadata": {},
   "outputs": [
    {
     "name": "stdout",
     "output_type": "stream",
     "text": [
      "Financial Status of Firm: 146 times (20.56%)\n",
      "Management Personnel Issues: 126 times (17.75%)\n",
      "The Union and Contract Issues: 96 times (13.52%)\n",
      "Routine Board Functions: 79 times (11.13%)\n",
      "Plant Production and Manufacturing Process Issues: 64 times (9.01%)\n",
      "ESOP Participation: 57 times (8.03%)\n",
      "Marketing and Sales: 41 times (5.77%)\n",
      "Employee Benefits: 34 times (4.79%)\n",
      "Employee Stock Ownership Plan (ESOP) Financial: 33 times (4.65%)\n",
      "Supervision: 16 times (2.25%)\n",
      "hog procurement: 12 times (1.69%)\n",
      "Political Relations with the Community: 4 times (0.56%)\n",
      "Scope of Board Issues: 2 times (0.28%)\n"
     ]
    }
   ],
   "source": [
    "# Extract the fourth component (Topic) from the 'Tag' field\n",
    "df_after['Topic_Component'] = df_after['Tag'].apply(\n",
    "    lambda x: x.split(',')[3].strip(']').strip() if len(x.split(',')) > 3 else None\n",
    ")\n",
    "\n",
    "# Filter the DataFrame to exclude rows where 'Is_Focus_Category' is True for the percentage calculation\n",
    "df_excluding_focus = df_after[~df_after['Is_Focus_Category']]\n",
    "\n",
    "# Count the occurrences of each unique 'Topic_Component' in these rows\n",
    "topic_component_counts = df_excluding_focus['Topic_Component'].value_counts()\n",
    "\n",
    "# Calculate the total count for percentage calculation from the filtered dataframe\n",
    "total_count = df_excluding_focus['Topic_Component'].count()\n",
    "\n",
    "# Translate the topic components and calculate the percentage using the filtered counts\n",
    "translated_topic_counts = {\n",
    "  topic_codes.get(key, \"Unknown\"): {\n",
    "    'Count': value, \n",
    "    'Percentage': (value / total_count) * 100 if total_count > 0 else 0  # Check to avoid division by zero\n",
    "  }\n",
    "  for key, value in topic_component_counts.items()\n",
    "}\n",
    "\n",
    "for topic, data in translated_topic_counts.items():\n",
    "  percentage = round(data['Percentage'], 2)\n",
    "  data['Percentage'] = f\"{percentage}%\"\n",
    "\n",
    "# Display the translated counts and percentages\n",
    "for topic, data in translated_topic_counts.items():\n",
    "  print(f\"{topic}: {data['Count']} times ({data['Percentage']})\")\n"
   ]
  },
  {
   "cell_type": "markdown",
   "id": "453e4c5e",
   "metadata": {},
   "source": [
    "### Percentage of verbal contribution categories after 4h"
   ]
  },
  {
   "cell_type": "code",
   "execution_count": 12,
   "id": "458067b7",
   "metadata": {},
   "outputs": [
    {
     "name": "stdout",
     "output_type": "stream",
     "text": [
      "Information giving: 125 times (17.61%)\n",
      "Sensible,nonpersonal arguments: 124 times (17.46%)\n",
      "Information seeking: 94 times (13.24%)\n",
      "Personal defensiveness: 49 times (6.9%)\n",
      "Union: 46 times (6.48%)\n",
      "Stonewalling: 39 times (5.49%)\n",
      "Tension management: 36 times (5.07%)\n",
      "Direction of traffic: 27 times (3.8%)\n",
      "Agreeing reluctantly: 27 times (3.8%)\n",
      "Management: 24 times (3.38%)\n",
      "Unclassified verbal behaviors: 23 times (3.24%)\n",
      "Making statements in support of another person's argument: 20 times (2.82%)\n",
      "Motion making: 18 times (2.54%)\n",
      "Motion seconding: 14 times (1.97%)\n",
      "Corporate interests: 11 times (1.55%)\n",
      "Making specific suggestions for action: 11 times (1.55%)\n",
      "Personal gains: 10 times (1.41%)\n",
      "Attempts to propose new board topics: 8 times (1.13%)\n",
      "People (workers) as distinct from union or the union leadership: 4 times (0.56%)\n"
     ]
    }
   ],
   "source": [
    "# Extract the third component (Verbal Contribution) from the 'Tag' field in df_after\n",
    "df_after['Verbal_Component'] = df_after['Tag'].apply(\n",
    "    lambda x: x.split(',')[2].strip(']').strip() if len(x.split(',')) > 2 else None\n",
    ")\n",
    "\n",
    "# Count the occurrences of each unique 'Verbal_Component' in df_after\n",
    "verbal_component_counts = df_after['Verbal_Component'].value_counts()\n",
    "\n",
    "# Exclude focus category sentences from the percentage calculation\n",
    "# Filter df_after for rows where 'Is_Focus_Category' is False\n",
    "df_non_focus = df_after[~df_after['Is_Focus_Category']]\n",
    "\n",
    "# Count the occurrences of each unique 'Verbal_Component' in these non-focus rows\n",
    "non_focus_verbal_component_counts = df_non_focus['Verbal_Component'].value_counts()\n",
    "\n",
    "# Calculate the total count for percentage calculation excluding focus category\n",
    "total_non_focus_count = non_focus_verbal_component_counts.sum()\n",
    "\n",
    "# Translate the verbal components using the verbal_contribution_codes dictionary\n",
    "# Here we use the full count including focus category but calculate percentage using non-focus count\n",
    "translated_verbal_counts = {\n",
    "    verbal_contribution_codes.get(key, \"Unknown\"): {\n",
    "        'Count': verbal_component_counts.get(key, 0),  # Full count including focus category\n",
    "        'Percentage': (non_focus_verbal_component_counts.get(key, 0) / total_non_focus_count) * 100\n",
    "        # Percentage calculated using non-focus count\n",
    "    }\n",
    "    for key in verbal_component_counts.keys()  # Iterate over all keys to include every component in the count\n",
    "}\n",
    "\n",
    "# Format the percentage to two decimal places and add a percentage sign\n",
    "for verbal_contribution, data in translated_verbal_counts.items():\n",
    "    percentage = round(data['Percentage'], 2)\n",
    "    data['Percentage'] = f\"{percentage}%\"\n",
    "\n",
    "# Print the counts and percentages for each verbal contribution\n",
    "for verbal_contribution, data in translated_verbal_counts.items():\n",
    "    # Skip printing the focus category if desired\n",
    "    if verbal_contribution != verbal_contribution_codes.get(focus_category, focus_category):\n",
    "        print(f\"{verbal_contribution}: {data['Count']} times ({data['Percentage']})\")\n"
   ]
  },
  {
   "cell_type": "markdown",
   "id": "5213debc",
   "metadata": {},
   "source": [
    "##  Get 3 sentences BEFORE \"4h\" instances, keep the FIRST \"4h\" in consecutive \"4hs\""
   ]
  },
  {
   "cell_type": "code",
   "execution_count": 13,
   "id": "ac63cde5",
   "metadata": {},
   "outputs": [],
   "source": [
    "def get_relevant_rows_before(df, focus_column='Is_Focus_Category'):\n",
    "    relevant_rows = []\n",
    "    in_consecutive_focus = False  # Flag to track if we're in a series of consecutive focus category tagged rows\n",
    "\n",
    "    for i in range(1, len(df)):  # Start from 1 since we're looking at rows before the current\n",
    "        current_is_focus = df.iloc[i][focus_column]\n",
    "        prev_is_focus = df.iloc[i - 1][focus_column]\n",
    "\n",
    "        # If the current row is focus category and the previous row is not, or it's the first focus category in a series\n",
    "        if current_is_focus and not prev_is_focus:\n",
    "            # Reset the flag since this is the first focus category in a series\n",
    "            in_consecutive_focus = False\n",
    "            # Keep the current focus category row if it's standalone or the first in a series\n",
    "            relevant_rows.append(df.iloc[i])\n",
    "            # Add the previous three non-focus category rows\n",
    "            for j in range(1, 4):\n",
    "                if i-j < 0:  # Check if the index is below the DataFrame range\n",
    "                    break\n",
    "                if not df.iloc[i-j][focus_column]:\n",
    "                    relevant_rows.insert(0, df.iloc[i-j])  # Insert at the beginning to maintain order\n",
    "                else:\n",
    "                    break  # Stop if another focus category tagged row is encountered\n",
    "\n",
    "        # If the current row and the previous row are both focus category, we are in a series of consecutive focus categories\n",
    "        elif current_is_focus and prev_is_focus:\n",
    "            in_consecutive_focus = True\n",
    "            # Since we're keeping the first row in a series of consecutive focus categories, do nothing here\n",
    "\n",
    "    return pd.DataFrame(relevant_rows).sort_index()"
   ]
  },
  {
   "cell_type": "code",
   "execution_count": 14,
   "id": "7637c9d2",
   "metadata": {},
   "outputs": [],
   "source": [
    "df_before = get_relevant_rows_before(df)\n",
    "#df_before"
   ]
  },
  {
   "cell_type": "markdown",
   "id": "9aea0d2a",
   "metadata": {},
   "source": [
    "### Percentage of topics before 4h"
   ]
  },
  {
   "cell_type": "code",
   "execution_count": 15,
   "id": "7c4072ae",
   "metadata": {},
   "outputs": [
    {
     "name": "stdout",
     "output_type": "stream",
     "text": [
      "Financial Status of Firm: 147 times (20.7%)\n",
      "The Union and Contract Issues: 121 times (17.04%)\n",
      "Management Personnel Issues: 114 times (16.06%)\n",
      "Marketing and Sales: 62 times (8.73%)\n",
      "Plant Production and Manufacturing Process Issues: 57 times (8.03%)\n",
      "Routine Board Functions: 53 times (7.46%)\n",
      "ESOP Participation: 49 times (6.9%)\n",
      "Employee Benefits: 37 times (5.21%)\n",
      "Employee Stock Ownership Plan (ESOP) Financial: 32 times (4.51%)\n",
      "Supervision: 20 times (2.82%)\n",
      "hog procurement: 12 times (1.69%)\n",
      "Political Relations with the Community: 3 times (0.42%)\n",
      "Scope of Board Issues: 2 times (0.28%)\n",
      "Unknown: 1 times (0.14%)\n"
     ]
    }
   ],
   "source": [
    "# Extract the fourth component (Topic) from the 'Tag' field for df_before\n",
    "df_before['Topic_Component'] = df_before['Tag'].apply(\n",
    "    lambda x: x.split(',')[3].strip(']').strip() if len(x.split(',')) > 3 else None\n",
    ")\n",
    "\n",
    "# Filter the DataFrame to exclude rows where 'Is_Focus_Category' is True for the percentage calculation\n",
    "df_excluding_focus_before = df_before[~df_before['Is_Focus_Category']]\n",
    "\n",
    "# Count the occurrences of each unique 'Topic_Component' in these rows for df_before\n",
    "topic_component_counts_before = df_excluding_focus_before['Topic_Component'].value_counts()\n",
    "\n",
    "# Calculate the total count for percentage calculation from the filtered dataframe for df_before\n",
    "total_count_before = df_excluding_focus_before['Topic_Component'].count()\n",
    "\n",
    "# Translate the topic components and calculate the percentage using the filtered counts for df_before\n",
    "translated_topic_counts_before = {\n",
    "  topic_codes.get(key, \"Unknown\"): {\n",
    "    'Count': value, \n",
    "    'Percentage': (value / total_count_before) * 100 if total_count_before > 0 else 0  # Check to avoid division by zero\n",
    "  }\n",
    "  for key, value in topic_component_counts_before.items()\n",
    "}\n",
    "\n",
    "for topic, data in translated_topic_counts_before.items():\n",
    "  percentage = round(data['Percentage'], 2)\n",
    "  data['Percentage'] = f\"{percentage}%\"\n",
    "\n",
    "# Display the translated counts and percentages for sentences before the focus category\n",
    "for topic, data in translated_topic_counts_before.items():\n",
    "  print(f\"{topic}: {data['Count']} times ({data['Percentage']})\")\n"
   ]
  },
  {
   "cell_type": "code",
   "execution_count": 16,
   "id": "6173d72b",
   "metadata": {},
   "outputs": [
    {
     "data": {
      "text/html": [
       "<div>\n",
       "<style scoped>\n",
       "    .dataframe tbody tr th:only-of-type {\n",
       "        vertical-align: middle;\n",
       "    }\n",
       "\n",
       "    .dataframe tbody tr th {\n",
       "        vertical-align: top;\n",
       "    }\n",
       "\n",
       "    .dataframe thead th {\n",
       "        text-align: right;\n",
       "    }\n",
       "</style>\n",
       "<table border=\"1\" class=\"dataframe\">\n",
       "  <thead>\n",
       "    <tr style=\"text-align: right;\">\n",
       "      <th></th>\n",
       "      <th>Tag</th>\n",
       "      <th>Sentence</th>\n",
       "      <th>Standardized_Sentence</th>\n",
       "      <th>Tag_Component</th>\n",
       "      <th>Is_Focus_Category</th>\n",
       "      <th>Topic_Component</th>\n",
       "    </tr>\n",
       "  </thead>\n",
       "  <tbody>\n",
       "    <tr>\n",
       "      <th>1626</th>\n",
       "      <td>[c:194,39,4d,47]</td>\n",
       "      <td>Bill is talking about goal and feedback and es...</td>\n",
       "      <td>bill is talking about goal and feedback and es...</td>\n",
       "      <td>4d</td>\n",
       "      <td>False</td>\n",
       "      <td>47</td>\n",
       "    </tr>\n",
       "  </tbody>\n",
       "</table>\n",
       "</div>"
      ],
      "text/plain": [
       "                   Tag                                           Sentence  \\\n",
       "1626  [c:194,39,4d,47]  Bill is talking about goal and feedback and es...   \n",
       "\n",
       "                                  Standardized_Sentence Tag_Component  \\\n",
       "1626  bill is talking about goal and feedback and es...            4d   \n",
       "\n",
       "      Is_Focus_Category Topic_Component  \n",
       "1626              False              47  "
      ]
     },
     "execution_count": 16,
     "metadata": {},
     "output_type": "execute_result"
    }
   ],
   "source": [
    "unknown_topic_keys = [key for key in df_excluding_focus_before['Topic_Component'].unique() if key not in topic_codes]\n",
    "df_unknown_topics = df_excluding_focus_before[df_excluding_focus_before['Topic_Component'].isin(unknown_topic_keys)]\n",
    "df_unknown_topics"
   ]
  },
  {
   "cell_type": "markdown",
   "id": "4942fd87",
   "metadata": {},
   "source": [
    "### Percentage of verbal contribution categories before 4h"
   ]
  },
  {
   "cell_type": "code",
   "execution_count": 17,
   "id": "87a41bb4",
   "metadata": {},
   "outputs": [
    {
     "name": "stdout",
     "output_type": "stream",
     "text": [
      "Information giving: 148 times (20.85%)\n",
      "Sensible,nonpersonal arguments: 137 times (19.3%)\n",
      "Information seeking: 92 times (12.96%)\n",
      "Union: 50 times (7.04%)\n",
      "Personal defensiveness: 40 times (5.63%)\n",
      "Stonewalling: 31 times (4.37%)\n",
      "Management: 28 times (3.94%)\n",
      "Direction of traffic: 24 times (3.38%)\n",
      "Tension management: 24 times (3.38%)\n",
      "Unclassified verbal behaviors: 24 times (3.38%)\n",
      "Motion seconding: 20 times (2.82%)\n",
      "Making statements in support of another person's argument: 16 times (2.25%)\n",
      "Motion making: 15 times (2.11%)\n",
      "Making specific suggestions for action: 13 times (1.83%)\n",
      "Agreeing reluctantly: 12 times (1.69%)\n",
      "Personal gains: 10 times (1.41%)\n",
      "Corporate interests: 8 times (1.13%)\n",
      "Attempts to propose new board topics: 7 times (0.99%)\n",
      "Collective spirit and solidarity moves: 5 times (0.7%)\n",
      "People (workers) as distinct from union or the union leadership: 5 times (0.7%)\n",
      "Unknown: 1 times (0.14%)\n"
     ]
    }
   ],
   "source": [
    "df_before['Verbal_Component'] = df_before['Tag'].apply(\n",
    "    lambda x: x.split(',')[2].strip(']').strip() if len(x.split(',')) > 2 else None\n",
    ")\n",
    "\n",
    "# Filter df_before for rows where 'Is_Focus_Category' is False to exclude focus category sentences\n",
    "df_non_focus_before = df_before[~df_before['Is_Focus_Category']]\n",
    "\n",
    "# Count the occurrences of each unique 'Verbal_Component' in these non-focus rows of df_before\n",
    "non_focus_verbal_component_counts_before = df_non_focus_before['Verbal_Component'].value_counts()\n",
    "\n",
    "# Calculate the total count for percentage calculation excluding focus category sentences in df_before\n",
    "total_non_focus_count_before = non_focus_verbal_component_counts_before.sum()\n",
    "\n",
    "# Translate the verbal components using the verbal_contribution_codes dictionary\n",
    "# Here we use the count from non-focus rows for both count and percentage calculation\n",
    "translated_verbal_counts_before = {\n",
    "    verbal_contribution_codes.get(key, \"Unknown\"): {\n",
    "        'Count': non_focus_verbal_component_counts_before.get(key, 0),  # Count from non-focus rows\n",
    "        'Percentage': (non_focus_verbal_component_counts_before.get(key, 0) / total_non_focus_count_before) * 100\n",
    "        if total_non_focus_count_before > 0 else 0  # Check to avoid division by zero\n",
    "    }\n",
    "    for key in non_focus_verbal_component_counts_before.keys()  # Iterate over keys from non-focus rows\n",
    "}\n",
    "\n",
    "# Sort the translated verbal contributions, ensuring 'Unknown' is at the end\n",
    "sorted_verbal_counts_before = sorted(translated_verbal_counts_before.items(), key=lambda x: (-x[1]['Percentage'], x[0] == 'Unknown'))\n",
    "\n",
    "# Print the counts and percentages for each verbal contribution in sentences before the focus category\n",
    "for verbal_contribution, data in sorted_verbal_counts_before:\n",
    "    percentage = round(data['Percentage'], 2)  # Ensure percentage is rounded to two decimal places\n",
    "    print(f\"{verbal_contribution}: {data['Count']} times ({percentage}%)\")\n"
   ]
  },
  {
   "cell_type": "code",
   "execution_count": 18,
   "id": "15db2039",
   "metadata": {},
   "outputs": [
    {
     "data": {
      "text/html": [
       "<div>\n",
       "<style scoped>\n",
       "    .dataframe tbody tr th:only-of-type {\n",
       "        vertical-align: middle;\n",
       "    }\n",
       "\n",
       "    .dataframe tbody tr th {\n",
       "        vertical-align: top;\n",
       "    }\n",
       "\n",
       "    .dataframe thead th {\n",
       "        text-align: right;\n",
       "    }\n",
       "</style>\n",
       "<table border=\"1\" class=\"dataframe\">\n",
       "  <thead>\n",
       "    <tr style=\"text-align: right;\">\n",
       "      <th></th>\n",
       "      <th>Tag</th>\n",
       "      <th>Sentence</th>\n",
       "      <th>Standardized_Sentence</th>\n",
       "      <th>Tag_Component</th>\n",
       "      <th>Is_Focus_Category</th>\n",
       "      <th>Topic_Component</th>\n",
       "      <th>Verbal_Component</th>\n",
       "    </tr>\n",
       "  </thead>\n",
       "  <tbody>\n",
       "    <tr>\n",
       "      <th>436</th>\n",
       "      <td>[c:66,04,4e,01,07]</td>\n",
       "      <td>John Lambert, at that point, speaks and says t...</td>\n",
       "      <td>john lambert at that point speaks and says tha...</td>\n",
       "      <td>4e</td>\n",
       "      <td>False</td>\n",
       "      <td>01</td>\n",
       "      <td>4e</td>\n",
       "    </tr>\n",
       "  </tbody>\n",
       "</table>\n",
       "</div>"
      ],
      "text/plain": [
       "                    Tag                                           Sentence  \\\n",
       "436  [c:66,04,4e,01,07]  John Lambert, at that point, speaks and says t...   \n",
       "\n",
       "                                 Standardized_Sentence Tag_Component  \\\n",
       "436  john lambert at that point speaks and says tha...            4e   \n",
       "\n",
       "     Is_Focus_Category Topic_Component Verbal_Component  \n",
       "436              False              01               4e  "
      ]
     },
     "execution_count": 18,
     "metadata": {},
     "output_type": "execute_result"
    }
   ],
   "source": [
    "unknown_verbal_keys = [key for key in df_non_focus_before['Verbal_Component'].unique() if key not in verbal_contribution_codes]\n",
    "df_unknown_verbal_before = df_non_focus_before[df_non_focus_before['Verbal_Component'].isin(unknown_verbal_keys)]\n",
    "df_unknown_verbal_before"
   ]
  },
  {
   "cell_type": "markdown",
   "id": "b4ffa12d",
   "metadata": {},
   "source": [
    "# Summary"
   ]
  },
  {
   "cell_type": "markdown",
   "id": "37ddd10e",
   "metadata": {},
   "source": [
    "## Topic"
   ]
  },
  {
   "cell_type": "code",
   "execution_count": 19,
   "id": "2d7368f7",
   "metadata": {},
   "outputs": [
    {
     "name": "stdout",
     "output_type": "stream",
     "text": [
      "\u001b[1;31mBase Rate:\u001b[0m\n",
      "\u001b[1;36mTopic Percentages:\u001b[0m\n",
      "Financial Status of Firm: 26.09%\n",
      "The Union and Contract Issues: 12.85%\n",
      "Management Personnel Issues: 12.11%\n",
      "Routine Board Functions: 11.02%\n",
      "Plant Production and Manufacturing Process Issues: 8.71%\n",
      "Marketing and Sales: 7.95%\n",
      "Employee Benefits: 6.49%\n",
      "ESOP Participation: 5.35%\n",
      "Employee Stock Ownership Plan (ESOP) Financial: 4.55%\n",
      "hog procurement: 2.47%\n",
      "Supervision: 1.34%\n",
      "Political Relations with the Community: 0.95%\n",
      "Scope of Board Issues: 0.12%\n",
      "Unknown: 0.02%\n"
     ]
    }
   ],
   "source": [
    "print(\"\\033[1;31mBase Rate:\\033[0m\")  \n",
    "print(\"\\033[1;36mTopic Percentages:\\033[0m\") \n",
    "for topic, percentage in sorted_topic_counts:\n",
    "    print(f\"{topic}: {percentage:.2f}%\")"
   ]
  },
  {
   "cell_type": "markdown",
   "id": "54e67a62",
   "metadata": {},
   "source": [
    "## Topic before 4h"
   ]
  },
  {
   "cell_type": "code",
   "execution_count": 20,
   "id": "897efdc2",
   "metadata": {},
   "outputs": [
    {
     "name": "stdout",
     "output_type": "stream",
     "text": [
      "\u001b[1;36mTopic Percentages:\u001b[0m\n",
      "Financial Status of Firm: 147 times (20.7%)\n",
      "The Union and Contract Issues: 121 times (17.04%)\n",
      "Management Personnel Issues: 114 times (16.06%)\n",
      "Marketing and Sales: 62 times (8.73%)\n",
      "Plant Production and Manufacturing Process Issues: 57 times (8.03%)\n",
      "Routine Board Functions: 53 times (7.46%)\n",
      "ESOP Participation: 49 times (6.9%)\n",
      "Employee Benefits: 37 times (5.21%)\n",
      "Employee Stock Ownership Plan (ESOP) Financial: 32 times (4.51%)\n",
      "Supervision: 20 times (2.82%)\n",
      "hog procurement: 12 times (1.69%)\n",
      "Political Relations with the Community: 3 times (0.42%)\n",
      "Scope of Board Issues: 2 times (0.28%)\n",
      "Unknown: 1 times (0.14%)\n"
     ]
    }
   ],
   "source": [
    "print(\"\\033[1;36mTopic Percentages:\\033[0m\") \n",
    "for topic, data in translated_topic_counts_before.items():\n",
    "  print(f\"{topic}: {data['Count']} times ({data['Percentage']})\")"
   ]
  },
  {
   "cell_type": "markdown",
   "id": "dc356035",
   "metadata": {},
   "source": [
    "## Topic after 4h"
   ]
  },
  {
   "cell_type": "code",
   "execution_count": 21,
   "id": "e4c73e1b",
   "metadata": {},
   "outputs": [
    {
     "name": "stdout",
     "output_type": "stream",
     "text": [
      "\u001b[1;36mTopic Percentages:\u001b[0m\n",
      "Financial Status of Firm: 146 times (20.56%)\n",
      "Management Personnel Issues: 126 times (17.75%)\n",
      "The Union and Contract Issues: 96 times (13.52%)\n",
      "Routine Board Functions: 79 times (11.13%)\n",
      "Plant Production and Manufacturing Process Issues: 64 times (9.01%)\n",
      "ESOP Participation: 57 times (8.03%)\n",
      "Marketing and Sales: 41 times (5.77%)\n",
      "Employee Benefits: 34 times (4.79%)\n",
      "Employee Stock Ownership Plan (ESOP) Financial: 33 times (4.65%)\n",
      "Supervision: 16 times (2.25%)\n",
      "hog procurement: 12 times (1.69%)\n",
      "Political Relations with the Community: 4 times (0.56%)\n",
      "Scope of Board Issues: 2 times (0.28%)\n"
     ]
    }
   ],
   "source": [
    "print(\"\\033[1;36mTopic Percentages:\\033[0m\") \n",
    "for topic, data in translated_topic_counts.items():\n",
    "  print(f\"{topic}: {data['Count']} times ({data['Percentage']})\")"
   ]
  },
  {
   "cell_type": "markdown",
   "id": "261521cb",
   "metadata": {},
   "source": [
    "## Verbal Contribution"
   ]
  },
  {
   "cell_type": "code",
   "execution_count": 22,
   "id": "5a13e112",
   "metadata": {},
   "outputs": [
    {
     "name": "stdout",
     "output_type": "stream",
     "text": [
      "\u001b[1;31mBase Rate:\u001b[0m\n",
      "\u001b[1;36mVerbal Contribution Percentages:\u001b[0m\n",
      "Information giving: 26.13%\n",
      "Sensible,nonpersonal arguments: 16.37%\n",
      "Information seeking: 11.47%\n",
      "Disagreements, conflicts, attacks: 6.86%\n",
      "Unclassified verbal behaviors: 4.18%\n",
      "Motion making: 4.14%\n",
      "Union: 3.89%\n",
      "Motion seconding: 3.81%\n",
      "Tension management: 3.40%\n",
      "Direction of traffic: 2.51%\n",
      "Stonewalling: 2.47%\n",
      "Personal defensiveness: 2.47%\n",
      "Agreeing reluctantly: 2.43%\n",
      "Management: 2.29%\n",
      "Making specific suggestions for action: 2.04%\n",
      "Making statements in support of another person's argument: 1.42%\n",
      "Corporate interests: 1.38%\n",
      "Attempts to propose new board topics: 0.93%\n",
      "Personal gains: 0.78%\n",
      "Collective spirit and solidarity moves: 0.47%\n",
      "People (workers) as distinct from union or the union leadership: 0.43%\n",
      "Unknown: 0.06%\n"
     ]
    }
   ],
   "source": [
    "print(\"\\033[1;31mBase Rate:\\033[0m\")  \n",
    "print(\"\\033[1;36mVerbal Contribution Percentages:\\033[0m\") \n",
    "for verbal_contribution, percentage in sorted_verbal_counts:\n",
    "    print(f\"{verbal_contribution}: {percentage:.2f}%\")"
   ]
  },
  {
   "cell_type": "markdown",
   "id": "ca0064bc",
   "metadata": {},
   "source": [
    "## Verbal contribution before 4h"
   ]
  },
  {
   "cell_type": "code",
   "execution_count": 23,
   "id": "2f03a5c9",
   "metadata": {},
   "outputs": [
    {
     "name": "stdout",
     "output_type": "stream",
     "text": [
      "\u001b[1;36mVerbal Contribution Percentages:\u001b[0m\n",
      "Information giving: 148 times (20.85%)\n",
      "Sensible,nonpersonal arguments: 137 times (19.3%)\n",
      "Information seeking: 92 times (12.96%)\n",
      "Union: 50 times (7.04%)\n",
      "Personal defensiveness: 40 times (5.63%)\n",
      "Stonewalling: 31 times (4.37%)\n",
      "Management: 28 times (3.94%)\n",
      "Direction of traffic: 24 times (3.38%)\n",
      "Tension management: 24 times (3.38%)\n",
      "Unclassified verbal behaviors: 24 times (3.38%)\n",
      "Motion seconding: 20 times (2.82%)\n",
      "Making statements in support of another person's argument: 16 times (2.25%)\n",
      "Motion making: 15 times (2.11%)\n",
      "Making specific suggestions for action: 13 times (1.83%)\n",
      "Agreeing reluctantly: 12 times (1.69%)\n",
      "Personal gains: 10 times (1.41%)\n",
      "Corporate interests: 8 times (1.13%)\n",
      "Attempts to propose new board topics: 7 times (0.99%)\n",
      "Collective spirit and solidarity moves: 5 times (0.7%)\n",
      "People (workers) as distinct from union or the union leadership: 5 times (0.7%)\n",
      "Unknown: 1 times (0.14%)\n"
     ]
    }
   ],
   "source": [
    "print(\"\\033[1;36mVerbal Contribution Percentages:\\033[0m\") \n",
    "for verbal_contribution, data in sorted_verbal_counts_before:\n",
    "    percentage = round(data['Percentage'], 2) \n",
    "    print(f\"{verbal_contribution}: {data['Count']} times ({percentage}%)\")"
   ]
  },
  {
   "cell_type": "markdown",
   "id": "b34d3c48",
   "metadata": {},
   "source": [
    "## Verbal contribution after 4h"
   ]
  },
  {
   "cell_type": "code",
   "execution_count": 24,
   "id": "937d84c8",
   "metadata": {},
   "outputs": [
    {
     "name": "stdout",
     "output_type": "stream",
     "text": [
      "\u001b[1;36mVerbal Contribution Percentages:\u001b[0m\n",
      "Information giving: 125 times (17.61%)\n",
      "Sensible,nonpersonal arguments: 124 times (17.46%)\n",
      "Information seeking: 94 times (13.24%)\n",
      "Personal defensiveness: 49 times (6.9%)\n",
      "Union: 46 times (6.48%)\n",
      "Stonewalling: 39 times (5.49%)\n",
      "Tension management: 36 times (5.07%)\n",
      "Direction of traffic: 27 times (3.8%)\n",
      "Agreeing reluctantly: 27 times (3.8%)\n",
      "Management: 24 times (3.38%)\n",
      "Unclassified verbal behaviors: 23 times (3.24%)\n",
      "Making statements in support of another person's argument: 20 times (2.82%)\n",
      "Motion making: 18 times (2.54%)\n",
      "Motion seconding: 14 times (1.97%)\n",
      "Corporate interests: 11 times (1.55%)\n",
      "Making specific suggestions for action: 11 times (1.55%)\n",
      "Personal gains: 10 times (1.41%)\n",
      "Attempts to propose new board topics: 8 times (1.13%)\n",
      "People (workers) as distinct from union or the union leadership: 4 times (0.56%)\n"
     ]
    }
   ],
   "source": [
    "print(\"\\033[1;36mVerbal Contribution Percentages:\\033[0m\") \n",
    "for verbal_contribution, data in translated_verbal_counts.items():\n",
    "    if verbal_contribution != verbal_contribution_codes.get(focus_category, focus_category):\n",
    "        print(f\"{verbal_contribution}: {data['Count']} times ({data['Percentage']})\")"
   ]
  }
 ],
 "metadata": {
  "kernelspec": {
   "display_name": "Python 3 (ipykernel)",
   "language": "python",
   "name": "python3"
  },
  "language_info": {
   "codemirror_mode": {
    "name": "ipython",
    "version": 3
   },
   "file_extension": ".py",
   "mimetype": "text/x-python",
   "name": "python",
   "nbconvert_exporter": "python",
   "pygments_lexer": "ipython3",
   "version": "3.11.4"
  },
  "toc": {
   "base_numbering": 1,
   "nav_menu": {},
   "number_sections": true,
   "sideBar": true,
   "skip_h1_title": false,
   "title_cell": "Table of Contents",
   "title_sidebar": "Contents",
   "toc_cell": false,
   "toc_position": {
    "height": "calc(100% - 180px)",
    "left": "10px",
    "top": "150px",
    "width": "272px"
   },
   "toc_section_display": true,
   "toc_window_display": true
  }
 },
 "nbformat": 4,
 "nbformat_minor": 5
}
